{
 "cells": [
  {
   "cell_type": "code",
   "execution_count": 1,
   "id": "39a4fc73-2e60-40f2-98ee-03aca6857c8e",
   "metadata": {},
   "outputs": [],
   "source": [
    "import torch"
   ]
  },
  {
   "cell_type": "code",
   "execution_count": 2,
   "id": "e87856b7-8574-46b1-9268-2dbd4384d032",
   "metadata": {},
   "outputs": [
    {
     "data": {
      "text/plain": [
       "tensor([[2, 3],\n",
       "        [4, 5]], device='cuda:0')"
      ]
     },
     "execution_count": 2,
     "metadata": {},
     "output_type": "execute_result"
    }
   ],
   "source": [
    "# torch.tensor([2,3])\n",
    "# torch.tensor([[2,3],[4,5]])\n",
    "# torch.tensor([[2,3],[4,5]],dtype = torch.float32)\n",
    "# torch.tensor([[2,3],[4,5]],dtype = torch.double)\n",
    "# torch.tensor([[2,3],[4,5]],dtype = torch.float32)\n",
    "# torch.tensor([[2,3],[4,5]],dtype = torch.float32,requires_grad = True)\n",
    "# torch.tensor([[2,3],[4,5]],requires_grad = True)\n",
    "torch.tensor([[2,3],[4,5]], device = torch.device('cuda:0'))"
   ]
  },
  {
   "cell_type": "code",
   "execution_count": 81,
   "id": "3b7570b3-f70d-4d37-93b4-a4d1240e8e2b",
   "metadata": {},
   "outputs": [],
   "source": [
    "tensor = torch.tensor([[[2,3],[4,5],[6,7],[8,9]]],\n",
    "                     dtype = torch.float32,\n",
    "                      requires_grad = True\n",
    "                     )\n",
    "# tensor.dtype\n",
    "# tensor.size()\n",
    "# tensor.shape\n",
    "# tensor.ndim\n",
    "# tensor[0,0,0]\n",
    "# type(tensor[0,0,0])\n",
    "# tensor[0,3,1].item()"
   ]
  },
  {
   "cell_type": "code",
   "execution_count": 86,
   "id": "f6b2d104-3612-4d08-988e-794df365cca2",
   "metadata": {},
   "outputs": [
    {
     "data": {
      "text/plain": [
       "tensor([[[19., 19.],\n",
       "         [19., 19.],\n",
       "         [19., 19.]],\n",
       "\n",
       "        [[19., 19.],\n",
       "         [19., 19.],\n",
       "         [19., 19.]]])"
      ]
     },
     "execution_count": 86,
     "metadata": {},
     "output_type": "execute_result"
    }
   ],
   "source": [
    "# tensor = torch.zeros([2,3,2])\n",
    "# tensor\n",
    "\n",
    "# tensor = torch.zeros([2,3,2])\n",
    "# tensor\n",
    "\n",
    "# tensor = torch.ones([2,3,2])\n",
    "# tensor\n",
    "\n",
    "tensor = torch.zeros_like(tensor)\n",
    "\n",
    "tensor = torch.full_like(tensor, 19)\n",
    "tensor"
   ]
  },
  {
   "cell_type": "code",
   "execution_count": 93,
   "id": "fed95cfc-5478-43f2-95ae-1b2d2fa2c1b4",
   "metadata": {},
   "outputs": [],
   "source": [
    "# CPU and GPU\n",
    "# print(torch.cpu.is_available())\n",
    "# print(torch.cuda.is_available())"
   ]
  },
  {
   "cell_type": "code",
   "execution_count": 95,
   "id": "b22f9bc4-b026-4e72-af95-afb2b62dab16",
   "metadata": {},
   "outputs": [],
   "source": [
    "tensor = torch.tensor([1.,2.,3.], requires_grad = True)"
   ]
  },
  {
   "cell_type": "code",
   "execution_count": 99,
   "id": "423b167b-f0a1-40a9-8bd1-6522ef01b5e6",
   "metadata": {},
   "outputs": [
    {
     "data": {
      "text/plain": [
       "tensor([1., 2., 3.], device='cuda:0', grad_fn=<ToCopyBackward0>)"
      ]
     },
     "execution_count": 99,
     "metadata": {},
     "output_type": "execute_result"
    }
   ],
   "source": [
    "# tensor = tensor.cpu()\n",
    "# tensor = tensor.to('cpu')\n",
    "tensor = tensor.cuda()\n",
    "# tensor = tensor.to('cuda')\n",
    "\n",
    "tensor"
   ]
  },
  {
   "cell_type": "code",
   "execution_count": 100,
   "id": "3131b189-c71c-443a-9f9c-aa7eea26804c",
   "metadata": {},
   "outputs": [],
   "source": [
    "device = 'cuda' if torch.cuda.is_available() else 'cpu'\n",
    "tensor = tensor.to(device)"
   ]
  },
  {
   "cell_type": "code",
   "execution_count": 101,
   "id": "b7d470bb-59d7-4b4c-a3d6-dcd35cb9d731",
   "metadata": {},
   "outputs": [
    {
     "data": {
      "text/plain": [
       "device(type='cuda', index=0)"
      ]
     },
     "execution_count": 101,
     "metadata": {},
     "output_type": "execute_result"
    }
   ],
   "source": [
    "tensor.device"
   ]
  },
  {
   "cell_type": "code",
   "execution_count": 102,
   "id": "42e97da7-2432-4d68-a9f4-eb2313ee2f20",
   "metadata": {},
   "outputs": [
    {
     "data": {
      "text/plain": [
       "tensor([1., 2., 3.])"
      ]
     },
     "execution_count": 102,
     "metadata": {},
     "output_type": "execute_result"
    }
   ],
   "source": [
    "tensor1 = torch.tensor([1.,2.,3.]).to('cpu')\n",
    "tensor1"
   ]
  },
  {
   "cell_type": "code",
   "execution_count": 106,
   "id": "0829697b-eb8c-4797-8a99-2c7d04515b1a",
   "metadata": {},
   "outputs": [
    {
     "data": {
      "text/plain": [
       "tensor([2., 4., 6.], device='cuda:0', grad_fn=<AddBackward0>)"
      ]
     },
     "execution_count": 106,
     "metadata": {},
     "output_type": "execute_result"
    }
   ],
   "source": [
    "# new_tensor = tensor + tensor1\n",
    "new_tensor = tensor + tensor1.to(device)\n",
    "new_tensor"
   ]
  },
  {
   "cell_type": "code",
   "execution_count": 21,
   "id": "b466ce13",
   "metadata": {},
   "outputs": [
    {
     "data": {
      "text/plain": [
       "(tensor([[-1.2057, -0.7985],\n",
       "         [-3.0556, -0.5208]]),\n",
       " tensor([[-0.8999, -0.7277],\n",
       "         [-2.4411, -1.1269]]))"
      ]
     },
     "execution_count": 21,
     "metadata": {},
     "output_type": "execute_result"
    }
   ],
   "source": [
    "random_tensor = torch.rand(2,2)\n",
    "random_tensor_2 = torch.rand([2,2])\n",
    "random_tensor.log2(), random_tensor_2.log2_()"
   ]
  },
  {
   "cell_type": "code",
   "execution_count": 24,
   "id": "6071e84d",
   "metadata": {},
   "outputs": [
    {
     "data": {
      "text/plain": [
       "(1, 3)"
      ]
     },
     "execution_count": 24,
     "metadata": {},
     "output_type": "execute_result"
    }
   ],
   "source": [
    "flat_tensor = torch.rand(784)\n",
    "reshapped_tensor = flat_tensor.reshape(1,28,28)\n",
    "flat_tensor.dim(), reshapped_tensor.dim()"
   ]
  },
  {
   "cell_type": "code",
   "execution_count": 25,
   "id": "ad0a1cd7",
   "metadata": {},
   "outputs": [
    {
     "data": {
      "text/plain": [
       "torch.Size([3, 640, 480])"
      ]
     },
     "execution_count": 25,
     "metadata": {},
     "output_type": "execute_result"
    }
   ],
   "source": [
    "hwc_tensor = torch.rand(640,480,3)\n",
    "chw_tensor = hwc_tensor.permute(2,0,1)\n",
    "chw_tensor.shape"
   ]
  }
 ],
 "metadata": {
  "kernelspec": {
   "display_name": "Python (myenv)",
   "language": "python",
   "name": "myenv"
  },
  "language_info": {
   "codemirror_mode": {
    "name": "ipython",
    "version": 3
   },
   "file_extension": ".py",
   "mimetype": "text/x-python",
   "name": "python",
   "nbconvert_exporter": "python",
   "pygments_lexer": "ipython3",
   "version": "3.10.8"
  }
 },
 "nbformat": 4,
 "nbformat_minor": 5
}
