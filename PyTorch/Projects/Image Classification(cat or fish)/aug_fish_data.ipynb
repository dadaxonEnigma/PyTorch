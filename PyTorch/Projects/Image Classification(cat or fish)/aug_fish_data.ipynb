{
 "cells": [
  {
   "cell_type": "code",
   "execution_count": 1,
   "metadata": {},
   "outputs": [],
   "source": [
    "import os\n",
    "import torch\n",
    "from torchvision import transforms\n",
    "from PIL import Image\n",
    "from torch.utils.data import DataLoader\n",
    "from torchvision.datasets import ImageFolder\n",
    "from torch.utils.data import Dataset\n",
    "import shutil"
   ]
  },
  {
   "cell_type": "code",
   "execution_count": 2,
   "metadata": {},
   "outputs": [],
   "source": [
    "# Папка с исходными изображениями fish\n",
    "fish_dir = './train/fish/'\n",
    "# Папка, куда будем сохранять аугментированные изображения\n",
    "output_dir = './train/fish/'"
   ]
  },
  {
   "cell_type": "code",
   "execution_count": 4,
   "metadata": {},
   "outputs": [],
   "source": [
    "transform = transforms.Compose([\n",
    "    transforms.RandomRotation(40),            # Случайный поворот\n",
    "    transforms.RandomResizedCrop(224),        # Случайное изменение размера с обрезкой\n",
    "    transforms.RandomHorizontalFlip(),        # Случайное горизонтальное отражение\n",
    "    transforms.ColorJitter(brightness=0.2, contrast=0.2, saturation=0.2, hue=0.2),  # Изменение яркости, контраста, насыщенности и оттенка\n",
    "    transforms.RandomAffine(degrees=0, translate=(0.2, 0.2), scale=(0.8, 1.2), shear=20),  # Случайная аффинная трансформация\n",
    "    transforms.ToTensor(),                    # Преобразование изображения в тензор\n",
    "])"
   ]
  },
  {
   "cell_type": "code",
   "execution_count": 5,
   "metadata": {},
   "outputs": [],
   "source": [
    "fish_images = [f for f in os.listdir(fish_dir) if f.endswith('.jpg') or f.endswith('.png')]"
   ]
  },
  {
   "cell_type": "code",
   "execution_count": 6,
   "metadata": {},
   "outputs": [
    {
     "name": "stdout",
     "output_type": "stream",
     "text": [
      "Аугментация завершена!\n"
     ]
    }
   ],
   "source": [
    "for i, image_name in enumerate(fish_images):\n",
    "    image_path = os.path.join(fish_dir, image_name)\n",
    "    \n",
    "    # Открываем изображение\n",
    "    img = Image.open(image_path)\n",
    "    \n",
    "    # Применяем аугментацию\n",
    "    augmented_img = transform(img)\n",
    "    \n",
    "    # Преобразуем тензор обратно в изображение\n",
    "    augmented_img_pil = transforms.ToPILImage()(augmented_img)\n",
    "    \n",
    "    # Сохраняем аугментированное изображение\n",
    "    augmented_img_pil.save(os.path.join(output_dir, f'fish_{i+1}.png'))\n",
    "\n",
    "    # Если хотите больше аугментированных изображений для каждого, можно добавить цикл\n",
    "    # для создания нескольких аугментированных версий каждого изображения.\n",
    "\n",
    "print(\"Аугментация завершена!\")"
   ]
  }
 ],
 "metadata": {
  "kernelspec": {
   "display_name": "Python (myenv)",
   "language": "python",
   "name": "myenv"
  },
  "language_info": {
   "codemirror_mode": {
    "name": "ipython",
    "version": 3
   },
   "file_extension": ".py",
   "mimetype": "text/x-python",
   "name": "python",
   "nbconvert_exporter": "python",
   "pygments_lexer": "ipython3",
   "version": "3.10.8"
  }
 },
 "nbformat": 4,
 "nbformat_minor": 2
}
