{
 "cells": [
  {
   "cell_type": "code",
   "execution_count": 1,
   "id": "bdfd5875-686b-40af-ac5d-5a54a489cd5a",
   "metadata": {},
   "outputs": [],
   "source": [
    "import torch\n",
    "import torch.nn as nn\n",
    "import torch.optim as optim\n",
    "import torchvision\n",
    "import torch.nn.functional as F\n",
    "from torch.utils.tensorboard import SummaryWriter\n",
    "from torchvision import transforms\n",
    "from torch.utils.data import DataLoader , Dataset\n",
    "from PIL import Image, ImageFile"
   ]
  },
  {
   "cell_type": "markdown",
   "id": "734a263e-e89a-42d7-a43c-36eb47e9bf8d",
   "metadata": {},
   "source": [
    "## Создание данных"
   ]
  },
  {
   "cell_type": "code",
   "execution_count": 2,
   "id": "fee2d7a8",
   "metadata": {},
   "outputs": [],
   "source": [
    "train_data_path = './train/'"
   ]
  },
  {
   "cell_type": "code",
   "execution_count": 3,
   "id": "8db10a9f-9407-4b04-8764-76f03f945698",
   "metadata": {},
   "outputs": [
    {
     "name": "stdout",
     "output_type": "stream",
     "text": [
      "True\n",
      "CUDA is available. Device name: NVIDIA GeForce GTX 1660 Ti\n"
     ]
    }
   ],
   "source": [
    "# Проверка доступности CUDA\n",
    "print(torch.cuda.is_available())  # Должно вывести True, если CUDA доступна\n",
    "\n",
    "# Проверка устройства (если CUDA доступна)\n",
    "if torch.cuda.is_available():\n",
    "    print(f\"CUDA is available. Device name: {torch.cuda.get_device_name(0)}\")\n",
    "else:\n",
    "    print(\"CUDA is not available.\")"
   ]
  },
  {
   "cell_type": "code",
   "execution_count": 4,
   "id": "995dee30-bc94-4fc5-bece-d0c0c4d42ebf",
   "metadata": {},
   "outputs": [],
   "source": [
    "transform = transforms.Compose([\n",
    "    transforms.Resize((64,64)),\n",
    "    transforms.ToTensor(),\n",
    "    transforms.Normalize(mean=[0.485,0.456,0.406],\n",
    "                         std = [0.229,0.224,0.225])\n",
    "])\n",
    "train_data = torchvision.datasets.ImageFolder(root = train_data_path, transform=transform)"
   ]
  },
  {
   "cell_type": "code",
   "execution_count": 5,
   "id": "cddf8be9-e612-49f4-abb3-287c3913f0fa",
   "metadata": {},
   "outputs": [],
   "source": [
    "val_data_path = './val/'\n",
    "val_data = torchvision.datasets.ImageFolder(root = val_data_path, transform= transform)"
   ]
  },
  {
   "cell_type": "code",
   "execution_count": 6,
   "id": "1a9b267c",
   "metadata": {},
   "outputs": [],
   "source": [
    "test_data_path = './test/'\n",
    "test_data = torchvision.datasets.ImageFolder(root=test_data_path, transform=transform)"
   ]
  },
  {
   "cell_type": "code",
   "execution_count": 7,
   "id": "d27a3642",
   "metadata": {},
   "outputs": [],
   "source": [
    "batch_size = 64\n",
    "train_data_loader = DataLoader(train_data, batch_size=batch_size,shuffle = True)\n",
    "val_data_loader = DataLoader(val_data, batch_size= batch_size)\n",
    "test_data_loader = DataLoader(test_data, batch_size= batch_size)"
   ]
  },
  {
   "cell_type": "code",
   "execution_count": 8,
   "id": "13c7dee8",
   "metadata": {},
   "outputs": [],
   "source": [
    "class SimpleNet(nn.Module):\n",
    "    def __init__(self):\n",
    "        super(SimpleNet, self).__init__()\n",
    "        self.conv1 = nn.Conv2d(3,16,kernel_size = 3, stride =1 ,padding = 1)\n",
    "        self.pool = nn.MaxPool2d(2,2)\n",
    "        self.conv2 = nn.Conv2d(16,32, kernel_size =3 ,stride=1, padding = 1)\n",
    "\n",
    "        \n",
    "        self.fc1 = nn.Linear(32 * 16 * 16, 50)\n",
    "        self.fc2 = nn.Linear(50,2)\n",
    "    \n",
    "    def forward(self,x):\n",
    "        x = self.pool(F.relu(self.conv1(x)))\n",
    "        x = self.pool(F.relu(self.conv2(x)))\n",
    "        x = x.view(x.size(0), -1)\n",
    "        x = F.relu(self.fc1(x))\n",
    "        x = F.softmax(self.fc2(x),dim=1)\n",
    "        return x"
   ]
  },
  {
   "cell_type": "code",
   "execution_count": 9,
   "id": "e8e32fc0",
   "metadata": {},
   "outputs": [],
   "source": [
    "simple_net = SimpleNet()\n",
    "\n",
    "dummy_input = torch.rand(1,3,64,64)\n",
    "\n",
    "torch.onnx.export(\n",
    "    simple_net, \n",
    "    dummy_input, \n",
    "    'simplenet.onnx', \n",
    "    verbose= True, \n",
    "    input_names=['input'],\n",
    "    output_names=['output'])"
   ]
  },
  {
   "cell_type": "code",
   "execution_count": 10,
   "id": "32d4d145",
   "metadata": {},
   "outputs": [],
   "source": [
    "optimizer = optim.Adam(simple_net.parameters(),lr=0.0001)"
   ]
  },
  {
   "cell_type": "code",
   "execution_count": 11,
   "id": "66412a6e",
   "metadata": {},
   "outputs": [
    {
     "data": {
      "text/plain": [
       "SimpleNet(\n",
       "  (conv1): Conv2d(3, 16, kernel_size=(3, 3), stride=(1, 1), padding=(1, 1))\n",
       "  (pool): MaxPool2d(kernel_size=2, stride=2, padding=0, dilation=1, ceil_mode=False)\n",
       "  (conv2): Conv2d(16, 32, kernel_size=(3, 3), stride=(1, 1), padding=(1, 1))\n",
       "  (fc1): Linear(in_features=8192, out_features=50, bias=True)\n",
       "  (fc2): Linear(in_features=50, out_features=2, bias=True)\n",
       ")"
      ]
     },
     "execution_count": 11,
     "metadata": {},
     "output_type": "execute_result"
    }
   ],
   "source": [
    "if torch.cuda.is_available():\n",
    "    device = torch.device('cuda')\n",
    "else:\n",
    "    device = torch.device('cpu')\n",
    "simple_net.to(device)"
   ]
  },
  {
   "cell_type": "code",
   "execution_count": 12,
   "id": "af0df623",
   "metadata": {},
   "outputs": [],
   "source": [
    "def train(model, optimizer, loss_fn, train_loader, val_loader, epochs=10,device='cpu'):\n",
    "    for epoch in range(epochs):\n",
    "        training_loss = 0.0\n",
    "        valid_loss = 0.0\n",
    "        model.train()\n",
    "        for batch in train_loader:\n",
    "            optimizer.zero_grad()\n",
    "            inputs, targets = batch\n",
    "            \n",
    "            inputs = inputs.to(device)\n",
    "            targets = targets.to(device)\n",
    "            \n",
    "            output = model(inputs)\n",
    "            loss = loss_fn(output, targets)\n",
    "            loss.backward()\n",
    "            optimizer.step()\n",
    "            training_loss += loss.data.item() * inputs.size(0)\n",
    "            \n",
    "        training_loss /= len(train_loader.dataset)\n",
    "        \n",
    "        model.eval()\n",
    "        num_correct = 0 \n",
    "        num_examples = 0\n",
    "        with torch.no_grad():\n",
    "            for batch in val_loader:\n",
    "                inputs, targets = batch\n",
    "                inputs = inputs.to(device)\n",
    "                targets = targets.to(device)\n",
    "                \n",
    "                output = model(inputs)\n",
    "                loss = loss_fn(output,targets) \n",
    "                valid_loss += loss.data.item() * inputs.size(0)\n",
    "                \n",
    "                correct = torch.eq(torch.max(output, dim=1)[1], targets).view(-1)\n",
    "                num_correct += torch.sum(correct).item()\n",
    "                num_examples += correct.shape[0]\n",
    "                \n",
    "            valid_loss /= len(val_loader.dataset)\n",
    "\n",
    "        print(f'Epoch: {epoch + 1}, Training Loss: {training_loss:.2f}, Validation Loss: {valid_loss:.2f}, Accuracy: {num_correct / num_examples:.2f}')"
   ]
  },
  {
   "cell_type": "code",
   "execution_count": 13,
   "id": "6f263bc7",
   "metadata": {},
   "outputs": [
    {
     "name": "stdout",
     "output_type": "stream",
     "text": [
      "Epoch: 1, Training Loss: 0.68, Validation Loss: 0.77, Accuracy: 0.26\n",
      "Epoch: 2, Training Loss: 0.64, Validation Loss: 0.63, Accuracy: 0.68\n",
      "Epoch: 3, Training Loss: 0.62, Validation Loss: 0.66, Accuracy: 0.62\n",
      "Epoch: 4, Training Loss: 0.60, Validation Loss: 0.69, Accuracy: 0.55\n",
      "Epoch: 5, Training Loss: 0.58, Validation Loss: 0.54, Accuracy: 0.78\n",
      "Epoch: 6, Training Loss: 0.57, Validation Loss: 0.70, Accuracy: 0.51\n",
      "Epoch: 7, Training Loss: 0.55, Validation Loss: 0.61, Accuracy: 0.70\n",
      "Epoch: 8, Training Loss: 0.54, Validation Loss: 0.58, Accuracy: 0.74\n",
      "Epoch: 9, Training Loss: 0.53, Validation Loss: 0.62, Accuracy: 0.64\n",
      "Epoch: 10, Training Loss: 0.52, Validation Loss: 0.64, Accuracy: 0.63\n"
     ]
    }
   ],
   "source": [
    "train(simple_net,optimizer,nn.CrossEntropyLoss(), train_data_loader, val_data_loader, epochs=10, device=device)"
   ]
  },
  {
   "cell_type": "code",
   "execution_count": 18,
   "id": "20038865",
   "metadata": {},
   "outputs": [
    {
     "name": "stdout",
     "output_type": "stream",
     "text": [
      "cat\n"
     ]
    }
   ],
   "source": [
    "labels = ['cat','fish']\n",
    "\n",
    "img = Image.open(\"test/cat/298845523_84a02f7bac.jpg\") \n",
    "\n",
    "img = transform(img)  # (C, H, W)\n",
    "img = img.unsqueeze(0).to(device) \n",
    "\n",
    "simple_net.eval()\n",
    "\n",
    "with torch.no_grad():\n",
    "    prediction = simple_net(img)  # (1, num_classes)\n",
    "    prediction = F.softmax(prediction, dim=1)\n",
    "    prediction = prediction.argmax(dim=1).item() \n",
    "\n",
    "print(labels[prediction])"
   ]
  },
  {
   "cell_type": "code",
   "execution_count": null,
   "id": "d64ec89f",
   "metadata": {},
   "outputs": [],
   "source": []
  }
 ],
 "metadata": {
  "kernelspec": {
   "display_name": "myenv",
   "language": "python",
   "name": "menv"
  },
  "language_info": {
   "codemirror_mode": {
    "name": "ipython",
    "version": 3
   },
   "file_extension": ".py",
   "mimetype": "text/x-python",
   "name": "python",
   "nbconvert_exporter": "python",
   "pygments_lexer": "ipython3",
   "version": "3.10.8"
  }
 },
 "nbformat": 4,
 "nbformat_minor": 5
}
